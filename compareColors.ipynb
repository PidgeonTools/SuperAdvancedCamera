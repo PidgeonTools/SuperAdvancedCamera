{
 "cells": [
  {
   "cell_type": "code",
   "execution_count": 45,
   "metadata": {},
   "outputs": [
    {
     "name": "stdout",
     "output_type": "stream",
     "text": [
      "([[0.9647, 0.8471, 0.7373, 0.6353, 0.5294, 0.4353, 0.3373, 0.2549, 0.1961, 0.1176, 0.0], [0.0, 0.0, 0.0, 0.0, 0.0, 0.0, 0.0078, 0.0118, 0.0078, 0.0039, 0.0], [0.2275, 0.2275, 0.2118, 0.1882, 0.1451, 0.102, 0.0549, 0.0235, 0.0157, 0.0039, 0.0]], [[0.0, 0.0, 0.0, 0.0, 0.004, 0.0039, 0.0118, 0.0588, 0.1176, 0.0471, 0.0], [0.9922, 0.8784, 0.7569, 0.651, 0.5373, 0.4314, 0.3216, 0.2196, 0.1255, 0.0706, 0.0], [0.0863, 0.1333, 0.1725, 0.1961, 0.2157, 0.2235, 0.2275, 0.2039, 0.1137, 0.0275, 0.0]], [[0.0, 0.0, 0.0, 0.0, 0.0, 0.0, 0.0235, 0.0275, 0.0, 0.0, 0.0], [0.0, 0.0, 0.004, 0.0079, 0.004, 0.0196, 0.0078, 0.0, 0.0039, 0.0039, 0.0], [0.9922, 0.8824, 0.7725, 0.6745, 0.5765, 0.4902, 0.4039, 0.3412, 0.2824, 0.2118, 0.0]])\n"
     ]
    }
   ],
   "source": [
    "from PIL import Image\n",
    "import numpy as np\n",
    "\n",
    "def read_color_blocks(image_path):\n",
    "    # Load the image using PIL\n",
    "    img = Image.open(image_path)\n",
    "    img_array = np.array(img)\n",
    "    \n",
    "    # Initialize the result tuple\n",
    "    result = []\n",
    "    \n",
    "    # Loop through rows of red, green, and blue blocks (2nd, 5th, and 8th rows)\n",
    "    for row in [1, 4, 7]:\n",
    "        color_values = []\n",
    "        \n",
    "        # Loop through each color channel (R, G, B)\n",
    "        for channel in range(3):\n",
    "            channel_values = []\n",
    "            \n",
    "            # Loop through each block in the row\n",
    "            for col in range(11):\n",
    "                x, y = col * 100, row * 100\n",
    "                \n",
    "                # Get the color value for the block\n",
    "                block_value = img_array[y:y+100, x:x+100, channel]\n",
    "                \n",
    "                # Average the value over the block to reduce noise\n",
    "                avg_value = np.mean(block_value)\n",
    "                \n",
    "                # Normalize the value to the 0-1 range and keep up to 5 decimal places\n",
    "                normalized_value = round(avg_value / 255, 4)\n",
    "                \n",
    "                # Append the value to the channel_values list\n",
    "                channel_values.append(normalized_value)\n",
    "            \n",
    "            # Append the channel values to color_values\n",
    "            color_values.append(channel_values)\n",
    "        \n",
    "        # Append color_values to result\n",
    "        result.append(color_values)\n",
    "    \n",
    "    # Convert the result to a tuple and return\n",
    "    return tuple(result)\n",
    "\n",
    "# Test the function\n",
    "# Note: Please upload a 1100x1100 image that fits the description before running this cell.\n",
    "type = \"Zephyr\"\n",
    "image_path = f\"S:\\\\Animation\\\\BlenderScripts\\\\addons\\\\SuperAdvancedCamera\\\\filters\\\\Color Calibration {type}.png\"\n",
    "print(read_color_blocks(image_path))\n"
   ]
  }
 ],
 "metadata": {
  "kernelspec": {
   "display_name": "Python 3",
   "language": "python",
   "name": "python3"
  },
  "language_info": {
   "codemirror_mode": {
    "name": "ipython",
    "version": 3
   },
   "file_extension": ".py",
   "mimetype": "text/x-python",
   "name": "python",
   "nbconvert_exporter": "python",
   "pygments_lexer": "ipython3",
   "version": "3.10.6"
  },
  "orig_nbformat": 4
 },
 "nbformat": 4,
 "nbformat_minor": 2
}
